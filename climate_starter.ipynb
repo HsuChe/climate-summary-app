{
 "cells": [
  {
   "cell_type": "code",
   "execution_count": 1,
   "source": [
    "%matplotlib inline\n",
    "from matplotlib import style\n",
    "style.use('fivethirtyeight')\n",
    "import matplotlib.pyplot as plt"
   ],
   "outputs": [],
   "metadata": {}
  },
  {
   "cell_type": "code",
   "execution_count": null,
   "source": [
    "import pandas as pd\n",
    "import datetime as dt"
   ],
   "outputs": [],
   "metadata": {}
  },
  {
   "cell_type": "markdown",
   "source": [
    "# Reflect Tables into SQLAlchemy ORM"
   ],
   "metadata": {}
  },
  {
   "cell_type": "code",
   "execution_count": null,
   "source": [
    "# Python SQL toolkit and Object Relational Mapper\n",
    "import sqlalchemy\n",
    "from sqlalchemy.ext.automap import automap_base\n",
    "from sqlalchemy.orm import Session\n",
    "from sqlalchemy import create_engine, func, inspect"
   ],
   "outputs": [],
   "metadata": {}
  },
  {
   "cell_type": "code",
   "execution_count": null,
   "source": [
    "# create engine to hawaii.sqlite\n",
    "engine = create_engine(\"sqlite:///Resources/hawaii.sqlite\")\n",
    "conn = engine.connect()"
   ],
   "outputs": [],
   "metadata": {}
  },
  {
   "cell_type": "code",
   "execution_count": null,
   "source": [
    "# reflect an existing database into a new model\n",
    "Base = automap_base()\n",
    "# reflect the tables\n",
    "Base.prepare(conn, reflect = True)"
   ],
   "outputs": [],
   "metadata": {}
  },
  {
   "cell_type": "code",
   "execution_count": null,
   "source": [
    "# View all of the classes that automap found\n",
    "Base.classes.keys()"
   ],
   "outputs": [],
   "metadata": {}
  },
  {
   "cell_type": "code",
   "execution_count": null,
   "source": [
    "# Save references to each table\n",
    "Mea = Base.classes.measurement\n",
    "Sta = Base.classes.station"
   ],
   "outputs": [],
   "metadata": {}
  },
  {
   "cell_type": "code",
   "execution_count": null,
   "source": [
    "# Create our session (link) from Python to the DB\n",
    "session = Session(conn)"
   ],
   "outputs": [],
   "metadata": {}
  },
  {
   "cell_type": "markdown",
   "source": [
    "# Exploratory Precipitation Analysis"
   ],
   "metadata": {}
  },
  {
   "cell_type": "code",
   "execution_count": null,
   "source": [
    "\n",
    "# Find the most recent date in the data set.\n",
    "recent_date = session.query(Mea).order_by(Mea.date.desc()).first().__dict__\n",
    "recent_date\n",
    "inspector = inspect(conn)\n",
    "inspector.get_table_names()\n",
    "column_info = inspector.get_columns('measurement')\n",
    "column_info\n",
    "for column in column_info:\n",
    "    print(column['name'], column['type'],column['primary_key'])"
   ],
   "outputs": [],
   "metadata": {}
  },
  {
   "cell_type": "code",
   "execution_count": null,
   "source": [
    "date, = session.query(Mea.date).order_by(Mea.date.desc()).first()\n",
    "date"
   ],
   "outputs": [],
   "metadata": {}
  },
  {
   "cell_type": "code",
   "execution_count": null,
   "source": [
    "for columns in inspector.get_columns('station'):\n",
    "    print(columns['name'],\n",
    "          columns['type'],\n",
    "          columns['primary_key']\n",
    "          )\n"
   ],
   "outputs": [],
   "metadata": {}
  },
  {
   "cell_type": "code",
   "execution_count": null,
   "source": [
    "# Design a query to retrieve the last 12 months of precipitation data and plot the results. \n",
    "# Starting from the most recent data point in the database. \n",
    "# Calculate the date one year from the last date in data set.\n",
    "\n",
    "#Parse the recent date with datetime\n",
    "recent_parsed = dt.datetime.strptime(recent_date['date'],\"%Y-%m-%d\")\n",
    "#Create a new string while reducing year by one and parsing the month with 0 before the number.\n",
    "target_date = f\"{recent_parsed.year-1}-{recent_parsed.month:02}-{recent_parsed.day:02}\"\n",
    "\n",
    "# Run the session\n",
    "result = session.query(Mea).filter(\n",
    "    func.strftime(\"%Y-%m-%d\",Mea.date) > target_date\n",
    "    ).all()\n",
    "\n",
    "# Perform a query to retrieve the data and precipitation scores\n",
    "precipation_list = []\n",
    "for row in result:\n",
    "    precipation_list.append([row.date,row.prcp])\n",
    "precipation_list\n",
    "# Save the query results as a Pandas DataFrame and set the index to the date column\n",
    "preci_df = pd.DataFrame(precipation_list, columns= ['Date','Precipitation'])\n",
    "\n",
    "# Sort the dataframe by date\n",
    "prec_df_sort = preci_df.set_index('Date')\n",
    "\n",
    "# Use Pandas Plotting with Matplotlib to plot the data\n",
    "prec_df_sort.plot(figsize = (7,4))\n",
    "plt.title('Percipitation Between 2016 and 2017')\n",
    "plt.ylabel('Percipitation')\n",
    "plt.xticks(rotation = 45)\n",
    "plt.savefig(\"Images/precipitation.png\")\n",
    "\n",
    "plt.show()\n"
   ],
   "outputs": [],
   "metadata": {}
  },
  {
   "cell_type": "code",
   "execution_count": null,
   "source": [
    "# Use Pandas to calcualte the summary statistics for the precipitation data\n",
    "prec_df_sort.describe()"
   ],
   "outputs": [],
   "metadata": {}
  },
  {
   "cell_type": "markdown",
   "source": [
    "# Exploratory Station Analysis"
   ],
   "metadata": {}
  },
  {
   "cell_type": "code",
   "execution_count": null,
   "source": [
    "# Design a query to calculate the total number stations in the dataset\n",
    "station_tot = session.query(Sta).count()\n",
    "station_tot\n"
   ],
   "outputs": [],
   "metadata": {}
  },
  {
   "cell_type": "code",
   "execution_count": null,
   "source": [
    "# Design a query to find the most active stations (i.e. what stations have the most rows?)\n",
    "# List the stations and the counts in descending order.\n",
    "active_stations = session.query(Mea.station, func.count(Mea.id)).group_by(Mea.station).order_by(func.count(Mea.id).desc()).all()\n",
    "active_stations\n",
    "# for stations in active_stations:\n",
    "#     active_station_list.append(stations[0].__dict__['station'])\n",
    "# active_station_list"
   ],
   "outputs": [],
   "metadata": {}
  },
  {
   "cell_type": "code",
   "execution_count": null,
   "source": [
    "# Using the most active station id from the previous query, calculate the lowest, highest, and average temperature.\n",
    "station_temp = session.query(Mea.station,func.min(Mea.tobs),func.max(Mea.tobs),func.avg(Mea.tobs)).group_by(Mea.station).order_by(func.count(Mea.id).desc()).all()\n",
    "station_temp"
   ],
   "outputs": [],
   "metadata": {}
  },
  {
   "cell_type": "code",
   "execution_count": null,
   "source": [
    "# Using the most active station id\n",
    "# Query the last 12 months of temperature observation data for this station and plot the results as a histogram\n",
    "active_station_data = session.query(Mea.date,Mea.tobs).filter(Mea.station == station_temp[0][0]).all()\n",
    "station_df = pd.DataFrame(active_station_data, columns = ['Date','tobs'])\n",
    "station_sort = station_df.set_index('Date')\n",
    "station_sort.plot.hist(figsize = (7,4), bins=12)\n",
    "plt.title(f'Common Temperature for Station {station_temp[0][0]}')\n",
    "plt.xlabel('Tempearture')\n",
    "plt.savefig('Images/active_station_info.png')\n",
    "\n",
    "plt.show()"
   ],
   "outputs": [],
   "metadata": {}
  },
  {
   "cell_type": "markdown",
   "source": [
    "# Close session"
   ],
   "metadata": {}
  },
  {
   "cell_type": "code",
   "execution_count": null,
   "source": [
    "# Close Session\n",
    "session.close()"
   ],
   "outputs": [],
   "metadata": {}
  }
 ],
 "metadata": {
  "anaconda-cloud": {},
  "kernel_info": {
   "name": "python3"
  },
  "kernelspec": {
   "name": "python3",
   "display_name": "Python 3.8.8 64-bit ('base': conda)"
  },
  "language_info": {
   "codemirror_mode": {
    "name": "ipython",
    "version": 3
   },
   "file_extension": ".py",
   "mimetype": "text/x-python",
   "name": "python",
   "nbconvert_exporter": "python",
   "pygments_lexer": "ipython3",
   "version": "3.8.8"
  },
  "nteract": {
   "version": "0.12.3"
  },
  "varInspector": {
   "cols": {
    "lenName": 16,
    "lenType": 16,
    "lenVar": 40
   },
   "kernels_config": {
    "python": {
     "delete_cmd_postfix": "",
     "delete_cmd_prefix": "del ",
     "library": "var_list.py",
     "varRefreshCmd": "print(var_dic_list())"
    },
    "r": {
     "delete_cmd_postfix": ") ",
     "delete_cmd_prefix": "rm(",
     "library": "var_list.r",
     "varRefreshCmd": "cat(var_dic_list()) "
    }
   },
   "types_to_exclude": [
    "module",
    "function",
    "builtin_function_or_method",
    "instance",
    "_Feature"
   ],
   "window_display": false
  },
  "interpreter": {
   "hash": "dca0ade3e726a953b501b15e8e990130d2b7799f14cfd9f4271676035ebe5511"
  }
 },
 "nbformat": 4,
 "nbformat_minor": 2
}